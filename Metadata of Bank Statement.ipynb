{
 "cells": [
  {
   "cell_type": "code",
   "execution_count": 1,
   "id": "91764972",
   "metadata": {},
   "outputs": [],
   "source": [
    "import fitz\n",
    "from datetime import datetime\n",
    "\n",
    "def format_date_time(date_string):\n",
    "    # Check if the string starts with 'D:'\n",
    "    if date_string.startswith('D:'):\n",
    "        # Remove the 'D:' prefix\n",
    "        date_string = date_string[2:]\n",
    "        \n",
    "        # Convert the date string to a datetime object\n",
    "        try:\n",
    "            return datetime.strptime(date_string, \"%Y%m%d%H%M%S\")\n",
    "        except ValueError:\n",
    "            pass\n",
    "\n",
    "    return None\n",
    "\n",
    "def get_pdf_metadata(file_path):\n",
    "    with fitz.open(file_path) as doc:\n",
    "        metadata = doc.metadata\n",
    "\n",
    "        # Access individual metadata properties\n",
    "        title = metadata.get('title', '')\n",
    "        author = metadata.get('author', '')\n",
    "        subject = metadata.get('subject', '')\n",
    "        keywords = metadata.get('keywords', '')\n",
    "        creator = metadata.get('creator', '')\n",
    "        producer = metadata.get('producer', '')\n",
    "\n",
    "        # Get creation date and format it\n",
    "        creation_date = metadata.get('creationDate')\n",
    "        creation_date_formatted = ''\n",
    "        if creation_date:\n",
    "            creation_date_obj = format_date_time(creation_date)\n",
    "            if creation_date_obj:\n",
    "                creation_date_formatted = creation_date_obj.strftime(\"%Y-%m-%d %H:%M:%S\")\n",
    "\n",
    "        # Get modification date and format it\n",
    "        modification_date = metadata.get('modDate')\n",
    "        modification_date_formatted = ''\n",
    "        if modification_date:\n",
    "            modification_date_obj = format_date_time(modification_date)\n",
    "            if modification_date_obj:\n",
    "                modification_date_formatted = modification_date_obj.strftime(\"%Y-%m-%d %H:%M:%S\")\n",
    "\n",
    "        # Print the metadata properties\n",
    "        print(\"Title:\", title)\n",
    "        print(\"Author:\", author)\n",
    "        print(\"Subject:\", subject)\n",
    "        print(\"Keywords:\", keywords)\n",
    "        print(\"Creator:\", creator)\n",
    "        print(\"Producer:\", producer)\n",
    "        print(\"Creation Date:\", creation_date_formatted)\n",
    "        print(\"Modification Date:\", modification_date_formatted)\n"
   ]
  },
  {
   "cell_type": "code",
   "execution_count": 3,
   "id": "67821171",
   "metadata": {},
   "outputs": [
    {
     "name": "stdout",
     "output_type": "stream",
     "text": [
      "Title: \n",
      "Author: mgelb\n",
      "Subject: \n",
      "Keywords: \n",
      "Creator: Microsoft® Office Visio® 2007\n",
      "Producer: Microsoft® Office Visio® 2007\n",
      "Creation Date: 2010-02-05 18:02:42\n",
      "Modification Date: 2010-02-05 18:02:42\n"
     ]
    }
   ],
   "source": [
    "# Usage\n",
    "file_path = 'C:\\\\Users\\\\LCSS\\\\Bank_Account_Statement.pdf'\n",
    "get_pdf_metadata(file_path)\n",
    "\n"
   ]
  },
  {
   "cell_type": "code",
   "execution_count": 4,
   "id": "d7d183e9",
   "metadata": {},
   "outputs": [
    {
     "name": "stdout",
     "output_type": "stream",
     "text": [
      "Title: \n",
      "Author: \n",
      "Subject: \n",
      "Keywords: \n",
      "Creator: \n",
      "Producer: PyPDF2\n",
      "Creation Date: \n",
      "Modification Date: \n"
     ]
    }
   ],
   "source": [
    "# Usage\n",
    "file_path = 'C:\\\\Users\\\\LCSS\\\\priyanshimourya.pdf'\n",
    "get_pdf_metadata(file_path)"
   ]
  },
  {
   "cell_type": "code",
   "execution_count": null,
   "id": "04b95463",
   "metadata": {},
   "outputs": [],
   "source": []
  }
 ],
 "metadata": {
  "kernelspec": {
   "display_name": "Python 3 (ipykernel)",
   "language": "python",
   "name": "python3"
  },
  "language_info": {
   "codemirror_mode": {
    "name": "ipython",
    "version": 3
   },
   "file_extension": ".py",
   "mimetype": "text/x-python",
   "name": "python",
   "nbconvert_exporter": "python",
   "pygments_lexer": "ipython3",
   "version": "3.11.2"
  }
 },
 "nbformat": 4,
 "nbformat_minor": 5
}
